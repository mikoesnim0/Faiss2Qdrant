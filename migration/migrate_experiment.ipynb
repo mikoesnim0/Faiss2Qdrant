{
 "cells": [
  {
   "cell_type": "code",
   "execution_count": 1,
   "metadata": {},
   "outputs": [
    {
     "data": {
      "text/plain": [
       "'c:\\\\Users\\\\cha\\\\Desktop\\\\Research\\\\챗봇 프로젝트\\\\25년\\\\RAG_qdrant_migration\\\\migration'"
      ]
     },
     "execution_count": 1,
     "metadata": {},
     "output_type": "execute_result"
    }
   ],
   "source": [
    "import os\n",
    "os.getcwd()"
   ]
  },
  {
   "cell_type": "code",
   "execution_count": 2,
   "metadata": {},
   "outputs": [
    {
     "name": "stdout",
     "output_type": "stream",
     "text": [
      "C:\\Users\\cha\\Desktop\\Research\\챗봇 프로젝트\\12월_RAG\\ilora-clone\\rag_code\\vectorstore\\title_search_store\n"
     ]
    }
   ],
   "source": [
    "from dotenv import load_dotenv\n",
    "load_dotenv()\n",
    "\n",
    "# FAISS_VECTORSTORE_PATH = os.getenv(\"FAISS_VECTORSTORE_PATH\")\n",
    "# FAISS_VECTORSTORE_PATH = \"C:\\Users\\cha\\Desktop\\Research\\챗봇 프로젝트\\12월_RAG\\ilora-clone\\rag_code\\vectorstore\\abstract_search_store # rag_code\\vectorstore\\title_search_store\"\n",
    "FAISS_VECTORSTORE_PATH = r\"C:\\Users\\cha\\Desktop\\Research\\챗봇 프로젝트\\12월_RAG\\ilora-clone\\rag_code\\vectorstore\\title_search_store\"\n",
    "print(FAISS_VECTORSTORE_PATH)"
   ]
  },
  {
   "cell_type": "code",
   "execution_count": 3,
   "metadata": {},
   "outputs": [
    {
     "data": {
      "text/plain": [
       "['index.faiss', 'index.pkl']"
      ]
     },
     "execution_count": 3,
     "metadata": {},
     "output_type": "execute_result"
    }
   ],
   "source": [
    "os.listdir(FAISS_VECTORSTORE_PATH)"
   ]
  },
  {
   "cell_type": "code",
   "execution_count": 4,
   "metadata": {},
   "outputs": [
    {
     "data": {
      "text/plain": [
       "'C:\\\\Users\\\\cha\\\\Desktop\\\\Research\\\\챗봇 프로젝트\\\\12월_RAG\\\\ilora-clone\\\\rag_code\\\\vectorstore\\\\title_search_store'"
      ]
     },
     "execution_count": 4,
     "metadata": {},
     "output_type": "execute_result"
    }
   ],
   "source": [
    "os.chdir(FAISS_VECTORSTORE_PATH)\n",
    "os.getcwd()"
   ]
  },
  {
   "cell_type": "code",
   "execution_count": 5,
   "metadata": {},
   "outputs": [
    {
     "name": "stdout",
     "output_type": "stream",
     "text": [
      "전체 벡터 개수: 195739 차원: 1536\n"
     ]
    }
   ],
   "source": [
    "import faiss \n",
    "# Faiss 인덱스 파일 로드 \n",
    "index = faiss.read_index(\"index.faiss\") \n",
    "n_vectors = index.ntotal \n",
    "dim = index.d \n",
    "print(\"전체 벡터 개수:\", n_vectors, \"차원:\", dim)"
   ]
  },
  {
   "cell_type": "code",
   "execution_count": 10,
   "metadata": {},
   "outputs": [
    {
     "name": "stderr",
     "output_type": "stream",
     "text": [
      "C:\\Users\\cha\\AppData\\Local\\Temp\\ipykernel_21768\\868732135.py:12: UserWarning: Api key is used with an insecure connection.\n",
      "  qdrant_client = QdrantClient(url=\"http://localhost:6333\", api_key=\"abs123!A\")\n"
     ]
    },
    {
     "name": "stdout",
     "output_type": "stream",
     "text": [
      "Connected to Qdrant.\n"
     ]
    }
   ],
   "source": [
    "import os\n",
    "from qdrant_client import QdrantClient\n",
    "from qdrant_client.http.models import Distance, VectorParams, PointStruct\n",
    "from langchain_community.vectorstores import FAISS\n",
    "from langchain_openai import OpenAIEmbeddings  # 혹은 다른 Embeddings\n",
    "import logging\n",
    "from langchain_community.vectorstores import FAISS\n",
    "from langchain_openai import OpenAIEmbeddings\n",
    "\n",
    "\n",
    "# 2. Qdrant Client 준비\n",
    "qdrant_client = QdrantClient(url=\"http://localhost:6333\", api_key=\"abs123!A\")\n",
    "print(\"Connected to Qdrant.\")\n"
   ]
  },
  {
   "cell_type": "code",
   "execution_count": 9,
   "metadata": {},
   "outputs": [
    {
     "name": "stdout",
     "output_type": "stream",
     "text": [
      "Creating/Recreating collection: pubmed_rag_search\n"
     ]
    },
    {
     "ename": "NameError",
     "evalue": "name 'qdrant_client' is not defined",
     "output_type": "error",
     "traceback": [
      "\u001b[1;31m---------------------------------------------------------------------------\u001b[0m",
      "\u001b[1;31mNameError\u001b[0m                                 Traceback (most recent call last)",
      "Cell \u001b[1;32mIn[9], line 5\u001b[0m\n\u001b[0;32m      2\u001b[0m vector_size \u001b[38;5;241m=\u001b[39m \u001b[38;5;241m1536\u001b[39m\n\u001b[0;32m      4\u001b[0m \u001b[38;5;28mprint\u001b[39m(\u001b[38;5;124mf\u001b[39m\u001b[38;5;124m\"\u001b[39m\u001b[38;5;124mCreating/Recreating collection: \u001b[39m\u001b[38;5;132;01m{\u001b[39;00mcollection_name\u001b[38;5;132;01m}\u001b[39;00m\u001b[38;5;124m\"\u001b[39m)\n\u001b[1;32m----> 5\u001b[0m \u001b[43mqdrant_client\u001b[49m\u001b[38;5;241m.\u001b[39mrecreate_collection(\n\u001b[0;32m      6\u001b[0m     collection_name\u001b[38;5;241m=\u001b[39mcollection_name,\n\u001b[0;32m      7\u001b[0m     vectors_config\u001b[38;5;241m=\u001b[39mVectorParams(size\u001b[38;5;241m=\u001b[39mvector_size, distance\u001b[38;5;241m=\u001b[39mDistance\u001b[38;5;241m.\u001b[39mCOSINE)\n\u001b[0;32m      8\u001b[0m )\n",
      "\u001b[1;31mNameError\u001b[0m: name 'qdrant_client' is not defined"
     ]
    }
   ],
   "source": [
    "\n",
    "collection_name = \"pubmed_rag_search\"\n",
    "vector_size = 1536\n",
    "\n",
    "print(f\"Creating/Recreating collection: {collection_name}\")\n",
    "qdrant_client.recreate_collection(\n",
    "    collection_name=collection_name,\n",
    "    vectors_config=VectorParams(size=vector_size, distance=Distance.COSINE)\n",
    ")"
   ]
  },
  {
   "cell_type": "code",
   "execution_count": 106,
   "metadata": {},
   "outputs": [],
   "source": [
    "# 모두 openai text-embedding-3-small 사용하기로 변경.\n",
    "embeddings = OpenAIEmbeddings(model=\"text-embedding-3-small\")  # 기본적으로 OpenAIEmbeddings 사용\n",
    "directory = FAISS_VECTORSTORE_PATH\n",
    "# FAISS 파일 경로 설정\n",
    "index_file = \"index.faiss\"\n",
    "pkl_file = \"index.pkl\"\n",
    "\n",
    "# 파일 존재 여부 확인\n",
    "if not os.path.exists(index_file):\n",
    "    raise ValueError(f\"FAISS index file not found: {index_file}\")\n",
    "if not os.path.exists(pkl_file):\n",
    "    raise ValueError(f\"FAISS pickle file not found: {pkl_file}\")\n",
    "\n",
    "# FAISS 벡터스토어 로드\n",
    "vectorstore = FAISS.load_local(\n",
    "    folder_path=\".\",\n",
    "    embeddings=embeddings,\n",
    "    allow_dangerous_deserialization=True  # Pickle 파일 로드 허용\n",
    ")"
   ]
  },
  {
   "cell_type": "code",
   "execution_count": null,
   "metadata": {},
   "outputs": [],
   "source": [
    "# FAISS 인덱스 로드\n",
    "faiss_store = FAISS.load_local(\".\", embeddings, allow_dangerous_deserialization=True)"
   ]
  },
  {
   "cell_type": "code",
   "execution_count": null,
   "metadata": {},
   "outputs": [
    {
     "name": "stdout",
     "output_type": "stream",
     "text": [
      "벡터 차원: 1536\n",
      "총 벡터 개수: 195739\n",
      "Creating/Recreating collection: pubmed_rag_search\n"
     ]
    },
    {
     "name": "stderr",
     "output_type": "stream",
     "text": [
      "C:\\Users\\cha\\AppData\\Local\\Temp\\ipykernel_1592\\1544145871.py:24: DeprecationWarning: `recreate_collection` method is deprecated and will be removed in the future. Use `collection_exists` to check collection existence and `create_collection` instead.\n",
      "  qdrant_client.recreate_collection(\n"
     ]
    },
    {
     "name": "stdout",
     "output_type": "stream",
     "text": [
      "Qdrant 컬렉션 생성 완료.\n"
     ]
    }
   ],
   "source": [
    "# 벡터 차원 확인\n",
    "vector_dim = faiss_index.d\n",
    "print(f\"벡터 차원: {vector_dim}\")\n",
    "\n",
    "# 벡터 개수 확인\n",
    "num_vectors = faiss_index.ntotal\n",
    "print(f\"총 벡터 개수: {num_vectors}\")\n",
    "\n",
    "# Qdrant 클라이언트 설정 (로컬 실행)\n",
    "client = QdrantClient(\"http://localhost:6333\")\n",
    "\n",
    "# Qdrant 컬렉션 생성 (없으면 생성)\n",
    "collection_name = \"pubmed_rag_search\"\n",
    "vector_size = 1536\n",
    "\n",
    "print(f\"Creating/Recreating collection: {collection_name}\")\n",
    "qdrant_client.recreate_collection(\n",
    "    collection_name=collection_name,\n",
    "    vectors_config=VectorParams(size=vector_size, distance=Distance.COSINE)\n",
    ")\n",
    "\n",
    "print(\"Qdrant 컬렉션 생성 완료.\")\n"
   ]
  },
  {
   "cell_type": "code",
   "execution_count": 127,
   "metadata": {},
   "outputs": [
    {
     "name": "stderr",
     "output_type": "stream",
     "text": [
      "100%|██████████| 195739/195739 [04:21<00:00, 749.88it/s]\n"
     ]
    }
   ],
   "source": [
    "# Qdrant에 업로드할 포인트 데이터 변환\n",
    "points = []\n",
    "for i in tqdm(range(len(faiss_store.index_to_docstore_id)), position=0):\n",
    "    doc_id = faiss_store.index_to_docstore_id[i]\n",
    "    doc = faiss_store.docstore.search(doc_id)\n",
    "    vector = faiss_store.index.reconstruct(i)\n",
    "    payload = doc.metadata\n",
    "    point = PointStruct(id=doc_id, vector=vector, payload=payload)\n",
    "    points.append(point)"
   ]
  },
  {
   "cell_type": "code",
   "execution_count": null,
   "metadata": {},
   "outputs": [
    {
     "name": "stderr",
     "output_type": "stream",
     "text": [
      "100%|██████████| 392/392 [07:06<00:00,  1.09s/it]\n"
     ]
    },
    {
     "ename": "",
     "evalue": "",
     "output_type": "error",
     "traceback": [
      "\u001b[1;31mThe Kernel crashed while executing code in the current cell or a previous cell. \n",
      "\u001b[1;31mPlease review the code in the cell(s) to identify a possible cause of the failure. \n",
      "\u001b[1;31mClick <a href='https://aka.ms/vscodeJupyterKernelCrash'>here</a> for more info. \n",
      "\u001b[1;31mView Jupyter <a href='command:jupyter.viewOutput'>log</a> for further details."
     ]
    }
   ],
   "source": [
    "# batch size 500\n",
    "batch_size = 500\n",
    "for i in tqdm(range(0, len(points), batch_size), position=0):\n",
    "    batch = points[i:i+batch_size]\n",
    "    client.upsert(collection_name=collection_name, points=batch)\n",
    "\n",
    "\n",
    "# client.upsert(collection_name=collection_name, points=points)"
   ]
  }
 ],
 "metadata": {
  "kernelspec": {
   "display_name": "Python 3",
   "language": "python",
   "name": "python3"
  },
  "language_info": {
   "codemirror_mode": {
    "name": "ipython",
    "version": 3
   },
   "file_extension": ".py",
   "mimetype": "text/x-python",
   "name": "python",
   "nbconvert_exporter": "python",
   "pygments_lexer": "ipython3",
   "version": "3.12.4"
  }
 },
 "nbformat": 4,
 "nbformat_minor": 2
}

{
 "cells": [
  {
   "cell_type": "code",
   "execution_count": 1,
   "metadata": {},
   "outputs": [
    {
     "data": {
      "text/plain": [
       "'c:\\\\Users\\\\cha\\\\Desktop\\\\Research\\\\챗봇 프로젝트\\\\25년\\\\RAG_qdrant_migration\\\\migration'"
      ]
     },
     "execution_count": 1,
     "metadata": {},
     "output_type": "execute_result"
    }
   ],
   "source": [
    "import os\n",
    "from qdrant_client import QdrantClient\n",
    "from qdrant_client.http.models import Distance, VectorParams, PointStruct\n",
    "from langchain_community.vectorstores import FAISS\n",
    "from langchain_openai import OpenAIEmbeddings  # 혹은 다른 Embeddings\n",
    "import logging\n",
    "from langchain_community.vectorstores import FAISS\n",
    "from langchain_openai import OpenAIEmbeddings"
   ]
  },
  {
   "cell_type": "code",
   "execution_count": 41,
   "metadata": {},
   "outputs": [
    {
     "name": "stdout",
     "output_type": "stream",
     "text": [
      "C:\\Users\\cha\\Desktop\\Research\\챗봇 프로젝트\\12월_RAG\\ilora-clone\\rag_code\\vectorstore\\title_search_store\n"
     ]
    }
   ],
   "source": [
    "from dotenv import load_dotenv\n",
    "load_dotenv()\n",
    "vectorstore_names = [\"title_search_store\", \"abstract_search_store\"]\n",
    "FAISS_VECTORSTORE_PATHS = [fr\"C:\\Users\\cha\\Desktop\\Research\\챗봇 프로젝트\\12월_RAG\\ilora-clone\\rag_code\\vectorstore\\{vectorstore_name}\" for vectorstore_name in vectorstore_names]\n",
    "FAISS_VECTORSTORE_PATH = r\"C:\\Users\\cha\\Desktop\\Research\\챗봇 프로젝트\\12월_RAG\\ilora-clone\\rag_code\\vectorstore\\title_search_store\"\n",
    "print(FAISS_VECTORSTORE_PATH)"
   ]
  },
  {
   "cell_type": "code",
   "execution_count": 42,
   "metadata": {},
   "outputs": [
    {
     "name": "stdout",
     "output_type": "stream",
     "text": [
      "전체 벡터 개수: 195739 차원: 1536\n"
     ]
    }
   ],
   "source": [
    "import faiss \n",
    "# Faiss 인덱스 파일 로드 \n",
    "index = faiss.read_index(\"index.faiss\") \n",
    "n_vectors = index.ntotal \n",
    "dim = index.d \n",
    "print(\"전체 벡터 개수:\", n_vectors, \"차원:\", dim)"
   ]
  },
  {
   "cell_type": "code",
   "execution_count": null,
   "metadata": {},
   "outputs": [
    {
     "name": "stderr",
     "output_type": "stream",
     "text": [
      "C:\\Users\\cha\\AppData\\Local\\Temp\\ipykernel_21768\\868732135.py:12: UserWarning: Api key is used with an insecure connection.\n",
      "  qdrant_client = QdrantClient(url=\"http://localhost:6333\", api_key=\"abs123!A\")\n"
     ]
    },
    {
     "name": "stdout",
     "output_type": "stream",
     "text": [
      "Connected to Qdrant.\n"
     ]
    }
   ],
   "source": [
    "\n",
    "\n",
    "# 2. Qdrant Client 준비\n",
    "qdrant_client = QdrantClient(url=\"http://localhost:6333\", api_key=\"abs123!A\")\n",
    "print(\"Connected to Qdrant.\")\n"
   ]
  },
  {
   "cell_type": "code",
   "execution_count": 11,
   "metadata": {},
   "outputs": [
    {
     "name": "stdout",
     "output_type": "stream",
     "text": [
      "Creating/Recreating collection: pubmed_rag_search\n"
     ]
    },
    {
     "name": "stderr",
     "output_type": "stream",
     "text": [
      "C:\\Users\\cha\\AppData\\Local\\Temp\\ipykernel_21768\\3097467401.py:5: DeprecationWarning: `recreate_collection` method is deprecated and will be removed in the future. Use `collection_exists` to check collection existence and `create_collection` instead.\n",
      "  qdrant_client.recreate_collection(\n"
     ]
    },
    {
     "data": {
      "text/plain": [
       "True"
      ]
     },
     "execution_count": 11,
     "metadata": {},
     "output_type": "execute_result"
    }
   ],
   "source": [
    "\n",
    "collection_name = \"pubmed_rag_search\"\n",
    "vector_size = 1536\n",
    "\n",
    "print(f\"Creating/Recreating collection: {collection_name}\")\n",
    "qdrant_client.recreate_collection(\n",
    "    collection_name=collection_name,\n",
    "    vectors_config=VectorParams(size=vector_size, distance=Distance.COSINE)\n",
    ")"
   ]
  },
  {
   "cell_type": "code",
   "execution_count": 13,
   "metadata": {},
   "outputs": [],
   "source": [
    "# 모두 openai text-embedding-3-small 사용하기로 변경.\n",
    "embeddings = OpenAIEmbeddings(model=\"text-embedding-3-small\")  # 기본적으로 OpenAIEmbeddings 사용\n",
    "directory = FAISS_VECTORSTORE_PATH\n",
    "# FAISS 파일 경로 설정\n",
    "index_file = \"index.faiss\"\n",
    "pkl_file = \"index.pkl\"\n",
    "\n",
    "# 파일 존재 여부 확인\n",
    "if not os.path.exists(index_file):\n",
    "    raise ValueError(f\"FAISS index file not found: {index_file}\")\n",
    "if not os.path.exists(pkl_file):\n",
    "    raise ValueError(f\"FAISS pickle file not found: {pkl_file}\")\n",
    "\n",
    "# FAISS 벡터스토어 로드\n",
    "vectorstore = FAISS.load_local(\n",
    "    folder_path=\".\",\n",
    "    embeddings=embeddings,\n",
    "    allow_dangerous_deserialization=True  # Pickle 파일 로드 허용\n",
    ")"
   ]
  },
  {
   "cell_type": "code",
   "execution_count": null,
   "metadata": {},
   "outputs": [
    {
     "name": "stdout",
     "output_type": "stream",
     "text": [
      "벡터 차원: 1536\n",
      "총 벡터 개수: 195739\n",
      "Creating/Recreating collection: pubmed_rag_search\n"
     ]
    },
    {
     "name": "stderr",
     "output_type": "stream",
     "text": [
      "C:\\Users\\cha\\AppData\\Local\\Temp\\ipykernel_21768\\108294146.py:17: DeprecationWarning: `recreate_collection` method is deprecated and will be removed in the future. Use `collection_exists` to check collection existence and `create_collection` instead.\n",
      "  qdrant_client.recreate_collection(\n"
     ]
    },
    {
     "name": "stdout",
     "output_type": "stream",
     "text": [
      "Qdrant 컬렉션 생성 완료.\n"
     ]
    }
   ],
   "source": [
    "# 벡터 차원 확인\n",
    "vector_dim = index.d\n",
    "print(f\"벡터 차원: {vector_dim}\")\n",
    "\n",
    "# 벡터 개수 확인\n",
    "num_vectors = index.ntotal\n",
    "print(f\"총 벡터 개수: {num_vectors}\")\n",
    "\n",
    "# Qdrant 클라이언트 설정 (로컬 실행)\n",
    "client = QdrantClient(\"http://localhost:6333\")\n",
    "\n",
    "# Qdrant 컬렉션 생성 (없으면 생성)\n",
    "collection_name = \"pubmed_rag_search\"\n",
    "vector_size = 1536\n",
    "\n",
    "print(f\"Creating/Recreating collection: {collection_name}\")\n",
    "if not qdrant_client.collection_exists(collection_name):\n",
    "    qdrant_client.create_collection(\n",
    "        collection_name=collection_name,\n",
    "        vectors_config=VectorParams(size=vector_size, distance=Distance.COSINE)\n",
    "    )\n",
    "print(f\"Qdrant 컬렉션 {collection_name} 갱신신 완료.\")"
   ]
  },
  {
   "cell_type": "code",
   "execution_count": 26,
   "metadata": {},
   "outputs": [
    {
     "name": "stdout",
     "output_type": "stream",
     "text": [
      "{\n",
      "    \"title\": \"Impact of intention to become pregnant on breastfeeding in the first postpartum  hour.\",\n",
      "    \"authors\": [\n",
      "        \"Rocha ADF\",\n",
      "        \"Gomes KRO\",\n",
      "        \"Rodrigues MTP\"\n",
      "    ],\n",
      "    \"publication_date\": \"2020 Oct\",\n",
      "    \"journal\": \"Ciencia & saude coletiva\",\n",
      "    \"doi\": \"\",\n",
      "    \"pmid\": \"32997037\",\n",
      "    \"source\": \"Impact of intention to become pregnant on breastfe_32997037\",\n",
      "    \"abstract\": \"This study aimed to analyze the impact of the intention to become pregnant on  breastfeeding within the first hour after delivery. This is a cross-sectional  study nested in the research \\\"Birth in Brazil: national survey into labor and  birth\\\" carried out by the Oswaldo Cruz Foundation. Multiple logistic regression  was used to analyze the data of 5,563 puerperae and their newborns who  participated in the study. The following women evidenced a lower propensity to  begin breastfeeding in the first hour of life: puerperae who did not wish to  become pregnant (OR = 0.85; CI: 0.73-0.98) and who were dissatisfied upon  learning that they had become pregnant (OR = 0.72; CI: 0.61-0.83). The  intentionality of pregnancy affected maternal breastfeeding behavior so that  women with unintended pregnancies were less likely to initiate breastfeeding in  the first hour postpartum, thus evidencing that inadequate family planning may  indirectly harm breastfeeding. Therefore, the quality of family planning services  should be improved to reduce unintended pregnancies and prevent unfavorable  outcomes for mother-and-child health, such as the late onset of breastfeeding.\",\n",
      "    \"search_by\": \"title\"\n",
      "}\n",
      "{\n",
      "    \"title\": \"A Rare Cause of Adrenal Insufficiency - Isolated ACTH Deficiency Due to TBX19  Mutation: Long-Term Follow-Up of Two Cases and Review of the Literature.\",\n",
      "    \"authors\": [\n",
      "        \"Kardelen Al AD\",\n",
      "        \"Poyrazoglu S\",\n",
      "        \"Aslanger A\",\n",
      "        \"Yesil G\",\n",
      "        \"Ceylaner S\",\n",
      "        \"Bas F\",\n",
      "        \"Darendeliler F\"\n",
      "    ],\n",
      "    \"publication_date\": \"2019\",\n",
      "    \"journal\": \"Hormone research in paediatrics\",\n",
      "    \"doi\": \"\",\n",
      "    \"pmid\": \"32344415\",\n",
      "    \"source\": \"A Rare Cause of Adrenal Insufficiency  Isolated AC_32344415\",\n",
      "    \"abstract\": \"INTRODUCTION: Isolated adrenocorticotropic hormone (ACTH) deficiency (IAD) is a  rare cause of adrenal insufficiency and T-box pituitary restricted transcription  factor (TBX19) mutations are responsible for two-thirds of the neonatal onset  form of the disease. IAD presents with hypoglycemia and prolonged jaundice in the  neonatal period. TBX19 is important for both pro-opiomelanocortin (POMC) gene  transcription and differentiation of POMC-expressing cells. We describe 2  patients, 1 with a reported and 1 with a novel TBX19 mutation, and present  information about the long-term follow-up of these patients. CASE PRESENTATION:  Both patients had critical illnesses, recurrent hypoglycemia, convulsions, and  neonatal hyperbilirubinemia. They also had low cortisol and ACTH levels, while  other pituitary hormones were within the normal range. Pituitary imaging was  normal. After hydrocortisone treatment, there was resolution of the hypoglycemia  and the convulsions were controlled. Genetic studies of the patients revealed  both had inherited a homozygous mutation of the TBX19 gene. The first patient had  an alteration of NM_005149.3:c.856C>T (p.R286*) and the second patient had a  novel NM_005149.3:c.584C>T (p.T195I) mutation, analyzed by next-generation  sequencing. The noteworthy findings of the patients at follow-up were: short  stature, microcephaly, and decreased pubic hair in the first, and dysmorphic  features, Chiari type 1 malformation, tall stature, and low bone mineral density  (BMD) in the second. CONCLUSION: Congenital IAD can be life-threatening if it is  not recognized and treated early. TBX19 mutations should be considered in the  differential diagnosis of IAD. Further cases or functional analyses are needed  for genotype-phenotype correlations. Low BMD, dysmorphic features, Chiari type 1  malformation, and sparse pubic hair are some of the important features in these  patients.\",\n",
      "    \"search_by\": \"title\"\n",
      "}\n",
      "{\n",
      "    \"title\": \"Clinical manifestation of norovirus infection in children aged less than five  years old admitted with acute diarrhea in Surabaya, Indonesia: a cross-sectional  study.\",\n",
      "    \"authors\": [\n",
      "        \"Fardah Athiyyah A\",\n",
      "        \"Shigemura K\",\n",
      "        \"Kitagawa K\",\n",
      "        \"Agustina N\",\n",
      "        \"Darma A\",\n",
      "        \"Ranuh R\",\n",
      "        \"Raharjo D\",\n",
      "        \"Shirakawa T\",\n",
      "        \"Fujisawa M\",\n",
      "        \"Marto Sudarmo S\"\n",
      "    ],\n",
      "    \"publication_date\": \"2019\",\n",
      "    \"journal\": \"F1000Research\",\n",
      "    \"doi\": \"\",\n",
      "    \"pmid\": \"32201573\",\n",
      "    \"source\": \"Clinical manifestation of norovirus infection in c_32201573\",\n",
      "    \"abstract\": \"Background: The objective of this study was to investigate the clinical  manifestation of norovirus infection between norovirus genogroup and severity of  acute diarrhea in pediatric patients at the Dr. Soetomo Hospital, Surabaya,  Indonesia. Methods: This cross-sectional study involved 31 participants aged 1-60  months admitted to the hospital with acute diarrhea from April 2012 to March  2013. Norovirus genogroups (GI and II) were identified from patient stool using  reverse transcription polymerase chain reaction (RT-PCR). Severity was measured  using the Ruuska and Vesikari scoring system. Results: In total, 94 stool samples  were obtained, of which 31 (19%) were norovirus positive. Norovirus GI was found  in one sample with mild diarrhea. Norovirus GII was found in 30 samples (96.8%);  one sample with mild diarrhea (3.3%), 20 samples with moderate diarrhea (66.7%),  and nine samples with severe diarrhea (30%). Conclusion: Norovirus GII was the  most prevalent cause of acute diarrhea and 30% of the cases manifested as severe  diarrhea.\",\n",
      "    \"search_by\": \"title\"\n",
      "}\n"
     ]
    }
   ],
   "source": [
    "import json\n",
    "for i in range(3):\n",
    "    doc_id = vectorstore.index_to_docstore_id[i]\n",
    "    doc = vectorstore.docstore.search(doc_id)\n",
    "    payload = doc.metadata\n",
    "    print(json.dumps(payload, indent=4, ensure_ascii=False))\n",
    "\n"
   ]
  },
  {
   "cell_type": "code",
   "execution_count": null,
   "metadata": {},
   "outputs": [
    {
     "name": "stdout",
     "output_type": "stream",
     "text": [
      "Collecting ace_tools\n",
      "  Downloading ace_tools-0.0-py3-none-any.whl.metadata (300 bytes)\n",
      "Downloading ace_tools-0.0-py3-none-any.whl (1.1 kB)\n",
      "Installing collected packages: ace_tools\n",
      "Successfully installed ace_tools-0.0\n",
      "Note: you may need to restart the kernel to use updated packages.\n"
     ]
    },
    {
     "name": "stderr",
     "output_type": "stream",
     "text": [
      "\n",
      "[notice] A new release of pip is available: 24.3.1 -> 25.0.1\n",
      "[notice] To update, run: python.exe -m pip install --upgrade pip\n"
     ]
    }
   ],
   "source": [
    "pip install ace_too"
   ]
  },
  {
   "cell_type": "code",
   "execution_count": 37,
   "metadata": {},
   "outputs": [
    {
     "name": "stderr",
     "output_type": "stream",
     "text": [
      "100%|██████████| 195739/195739 [00:00<00:00, 1140888.22it/s]\n"
     ]
    },
    {
     "data": {
      "text/html": [
       "<div>\n",
       "<style scoped>\n",
       "    .dataframe tbody tr th:only-of-type {\n",
       "        vertical-align: middle;\n",
       "    }\n",
       "\n",
       "    .dataframe tbody tr th {\n",
       "        vertical-align: top;\n",
       "    }\n",
       "\n",
       "    .dataframe thead th {\n",
       "        text-align: right;\n",
       "    }\n",
       "</style>\n",
       "<table border=\"1\" class=\"dataframe\">\n",
       "  <thead>\n",
       "    <tr style=\"text-align: right;\">\n",
       "      <th></th>\n",
       "      <th>Abstract</th>\n",
       "      <th>Count</th>\n",
       "    </tr>\n",
       "  </thead>\n",
       "  <tbody>\n",
       "    <tr>\n",
       "      <th>3</th>\n",
       "      <td>No Abstract</td>\n",
       "      <td>7822</td>\n",
       "    </tr>\n",
       "    <tr>\n",
       "      <th>30585</th>\n",
       "      <td>[Figure: see text].</td>\n",
       "      <td>8</td>\n",
       "    </tr>\n",
       "    <tr>\n",
       "      <th>39433</th>\n",
       "      <td>BACKGROUND: Pneumonia remains the leading cause of infectious deaths in children  under-five glo...</td>\n",
       "      <td>6</td>\n",
       "    </tr>\n",
       "    <tr>\n",
       "      <th>54231</th>\n",
       "      <td>The International Liaison Committee on Resuscitation engages in a continuous  review of new, pee...</td>\n",
       "      <td>5</td>\n",
       "    </tr>\n",
       "    <tr>\n",
       "      <th>57020</th>\n",
       "      <td>BACKGROUND: Alopecia areata (AA) is an autoimmune disease characterized by  non-scaring hair los...</td>\n",
       "      <td>5</td>\n",
       "    </tr>\n",
       "    <tr>\n",
       "      <th>13932</th>\n",
       "      <td>Background: Japanese encephalitis (JE) is a mosquito-borne disease with high case  fatality and ...</td>\n",
       "      <td>5</td>\n",
       "    </tr>\n",
       "    <tr>\n",
       "      <th>34168</th>\n",
       "      <td>PURPOSE: This study aimed to investigate the gross motor functions including head  control, midl...</td>\n",
       "      <td>4</td>\n",
       "    </tr>\n",
       "    <tr>\n",
       "      <th>7442</th>\n",
       "      <td>Bilateral renal agenesis is associated with severe oligohydramnios and was  considered incompati...</td>\n",
       "      <td>4</td>\n",
       "    </tr>\n",
       "    <tr>\n",
       "      <th>13686</th>\n",
       "      <td>Severe acute respiratory syndrome coronavirus 2 (SARS-CoV-2) infection in  children accounts for...</td>\n",
       "      <td>4</td>\n",
       "    </tr>\n",
       "    <tr>\n",
       "      <th>52285</th>\n",
       "      <td>OBJECTIVES: To investigate childhood growth patterns in twins and to determine  whether they sho...</td>\n",
       "      <td>4</td>\n",
       "    </tr>\n",
       "  </tbody>\n",
       "</table>\n",
       "</div>"
      ],
      "text/plain": [
       "                                                                                                  Abstract  \\\n",
       "3                                                                                              No Abstract   \n",
       "30585                                                                                  [Figure: see text].   \n",
       "39433  BACKGROUND: Pneumonia remains the leading cause of infectious deaths in children  under-five glo...   \n",
       "54231  The International Liaison Committee on Resuscitation engages in a continuous  review of new, pee...   \n",
       "57020  BACKGROUND: Alopecia areata (AA) is an autoimmune disease characterized by  non-scaring hair los...   \n",
       "13932  Background: Japanese encephalitis (JE) is a mosquito-borne disease with high case  fatality and ...   \n",
       "34168  PURPOSE: This study aimed to investigate the gross motor functions including head  control, midl...   \n",
       "7442   Bilateral renal agenesis is associated with severe oligohydramnios and was  considered incompati...   \n",
       "13686  Severe acute respiratory syndrome coronavirus 2 (SARS-CoV-2) infection in  children accounts for...   \n",
       "52285  OBJECTIVES: To investigate childhood growth patterns in twins and to determine  whether they sho...   \n",
       "\n",
       "       Count  \n",
       "3       7822  \n",
       "30585      8  \n",
       "39433      6  \n",
       "54231      5  \n",
       "57020      5  \n",
       "13932      5  \n",
       "34168      4  \n",
       "7442       4  \n",
       "13686      4  \n",
       "52285      4  "
      ]
     },
     "execution_count": 37,
     "metadata": {},
     "output_type": "execute_result"
    }
   ],
   "source": [
    "# 중복된 데이터 표시\n",
    "from tqdm import tqdm\n",
    "\n",
    "# 실제 vectorstore에서 데이터 가져오기\n",
    "data = []\n",
    "\n",
    "for i in tqdm(range(len(vectorstore.index_to_docstore_id)), position=0):\n",
    "    doc_id = vectorstore.index_to_docstore_id[i]\n",
    "    doc = vectorstore.docstore.search(doc_id)\n",
    "    if doc and hasattr(doc, 'metadata') and \"abstract\" in doc.metadata:\n",
    "        data.append(doc.metadata)\n",
    "# import Counter\n",
    "from collections import Counter\n",
    "\n",
    "# \"abstract\"를 기준으로 중복 검사\n",
    "abstract_counts = Counter([entry[\"abstract\"] for entry in data])\n",
    "\n",
    "# 중복된 abstract 찾기\n",
    "duplicates = {abstract: count for abstract, count in abstract_counts.items() if count > 1}\n",
    "\n",
    "import pandas as pd\n",
    "\n",
    "df_duplicates = pd.DataFrame(list(duplicates.items()), columns=[\"Abstract\", \"Count\"])\n",
    "\n",
    "\n",
    "# display order by count\n",
    "df_duplicates = df_duplicates.sort_values(by=\"Count\", ascending=False)\n",
    "# display dataframe by pandas\n",
    "pd.set_option('display.max_colwidth', 100)\n",
    "df_duplicates.head(10)\n",
    "\n",
    "# tools.display_dataframe_to_user(name=\"Duplicate Abstracts\", dataframe=df_duplicates)"
   ]
  },
  {
   "cell_type": "code",
   "execution_count": 39,
   "metadata": {},
   "outputs": [
    {
     "name": "stderr",
     "output_type": "stream",
     "text": [
      "100%|██████████| 195739/195739 [00:24<00:00, 7892.18it/s] \n"
     ]
    }
   ],
   "source": [
    "# 중복된 abstract 저장\n",
    "duplicate_abstracts = set(df_duplicates[\"Abstract\"].tolist())\n",
    "\n",
    "# \"No Abstract\" 제거\n",
    "duplicate_abstracts.discard(\"No Abstract\")\n",
    "\n",
    "# Qdrant에 업로드할 포인트 데이터 변환 (중복 제거 적용)\n",
    "points = []\n",
    "seen_abstracts = set()  # 중복 추적을 위한 집합\n",
    "\n",
    "for i in tqdm(range(len(vectorstore.index_to_docstore_id)), position=0):\n",
    "    doc_id = vectorstore.index_to_docstore_id[i]\n",
    "    doc = vectorstore.docstore.search(doc_id)\n",
    "    vector = vectorstore.index.reconstruct(i)\n",
    "    payload = doc.metadata\n",
    "\n",
    "    # \"abstract\"가 없는 경우 스킵\n",
    "    if \"abstract\" not in payload:\n",
    "        continue\n",
    "\n",
    "    abstract_text = payload[\"abstract\"]\n",
    "\n",
    "    # 중복된 abstract인 경우 스킵\n",
    "    if abstract_text in duplicate_abstracts or abstract_text in seen_abstracts:\n",
    "        continue\n",
    "\n",
    "    # 현재 abstract를 기록하여 이후 중복 방지\n",
    "    seen_abstracts.add(abstract_text)\n",
    "\n",
    "    # Point 생성 후 리스트에 추가\n",
    "    point = PointStruct(id=doc_id, vector=vector, payload=payload)\n",
    "    points.append(point)"
   ]
  },
  {
   "cell_type": "code",
   "execution_count": 40,
   "metadata": {},
   "outputs": [
    {
     "name": "stderr",
     "output_type": "stream",
     "text": [
      "100%|██████████| 41/41 [00:24<00:00,  1.70it/s]\n"
     ]
    }
   ],
   "source": [
    "# batch size 500\n",
    "batch_size = 500\n",
    "for i in tqdm(range(0, len(points), batch_size), position=0):\n",
    "    batch = points[i:i+batch_size]\n",
    "    client.upsert(collection_name=collection_name, points=batch)\n",
    "\n",
    "\n",
    "# client.upsert(collection_name=collection_name, points=points)"
   ]
  }
 ],
 "metadata": {
  "kernelspec": {
   "display_name": "Python 3",
   "language": "python",
   "name": "python3"
  },
  "language_info": {
   "codemirror_mode": {
    "name": "ipython",
    "version": 3
   },
   "file_extension": ".py",
   "mimetype": "text/x-python",
   "name": "python",
   "nbconvert_exporter": "python",
   "pygments_lexer": "ipython3",
   "version": "3.12.4"
  }
 },
 "nbformat": 4,
 "nbformat_minor": 2
}
